{
 "cells": [
  {
   "cell_type": "markdown",
   "id": "cf4b6471",
   "metadata": {},
   "source": [
    "### Assigning values to Variables"
   ]
  },
  {
   "cell_type": "markdown",
   "id": "cf97c654",
   "metadata": {},
   "source": [
    " Declaring and assigning value to a variable"
   ]
  },
  {
   "cell_type": "code",
   "execution_count": 1,
   "id": "5129b00d",
   "metadata": {},
   "outputs": [
    {
     "name": "stdout",
     "output_type": "stream",
     "text": [
      "21\n",
      "Ahmed\n"
     ]
    }
   ],
   "source": [
    "age = 20\n",
    "age = 21\n",
    "print(age)\n",
    "name =\"Ahmed\"\n",
    "print(name)"
   ]
  },
  {
   "cell_type": "markdown",
   "id": "e7421857",
   "metadata": {},
   "source": [
    "Declaring multiple variables"
   ]
  },
  {
   "cell_type": "code",
   "execution_count": 2,
   "id": "9270876b",
   "metadata": {},
   "outputs": [
    {
     "name": "stdout",
     "output_type": "stream",
     "text": [
      "0\n",
      "9.3\n",
      "Hello\n"
     ]
    }
   ],
   "source": [
    "a, b, c = 0, 9.3, \"Hello\"\n",
    "\n",
    "print (a)\n",
    "print (b)\n",
    "print (c)"
   ]
  },
  {
   "cell_type": "code",
   "execution_count": 3,
   "id": "4fab3f1b",
   "metadata": {},
   "outputs": [
    {
     "name": "stdout",
     "output_type": "stream",
     "text": [
      "0\n",
      "9.3\n",
      "Hello\n"
     ]
    }
   ],
   "source": [
    "a = 0; b= 9.3; c= \"Hello\"\n",
    "\n",
    "print (a)\n",
    "print (b)\n",
    "print (c)"
   ]
  },
  {
   "cell_type": "markdown",
   "id": "1bdaeaf6",
   "metadata": {},
   "source": [
    "Changing the value of a variable"
   ]
  },
  {
   "cell_type": "code",
   "execution_count": 4,
   "id": "41f61d97",
   "metadata": {},
   "outputs": [
    {
     "name": "stdout",
     "output_type": "stream",
     "text": [
      "ahmed\n",
      "mohamed\n"
     ]
    }
   ],
   "source": [
    "name = \"ahmed\"\n",
    "print(name)\n",
    "\n",
    "# assigning a new variable to website\n",
    "name = \"mohamed\"\n",
    "\n",
    "print(name)"
   ]
  },
  {
   "cell_type": "markdown",
   "id": "de7b64f0",
   "metadata": {},
   "source": [
    "variable names are case sensitive"
   ]
  },
  {
   "cell_type": "code",
   "execution_count": 5,
   "id": "ab29ca10",
   "metadata": {},
   "outputs": [
    {
     "name": "stdout",
     "output_type": "stream",
     "text": [
      "Ahmed 20\n",
      "Mohamed 21\n"
     ]
    }
   ],
   "source": [
    "name=\"Ahmed\" ; age =20\n",
    "print(name , age)\n",
    "\n",
    "Name=\"Mohamed\" ; Age =21\n",
    "print(Name , Age)"
   ]
  },
  {
   "cell_type": "markdown",
   "id": "1530649e",
   "metadata": {},
   "source": [
    "Comparison operators"
   ]
  },
  {
   "cell_type": "code",
   "execution_count": 6,
   "id": "c0776389",
   "metadata": {},
   "outputs": [],
   "source": [
    "#compare the certain two operands and return True or False.\n",
    "\n"
   ]
  },
  {
   "cell_type": "markdown",
   "id": "e95f5a78",
   "metadata": {},
   "source": [
    "Logical operators"
   ]
  },
  {
   "cell_type": "code",
   "execution_count": 7,
   "id": "5db2ed73",
   "metadata": {},
   "outputs": [
    {
     "name": "stdout",
     "output_type": "stream",
     "text": [
      "True\n",
      "False\n",
      "True\n",
      "True\n",
      "False\n"
     ]
    }
   ],
   "source": [
    "a = 3.14\n",
    "b = 1.618\n",
    "c = 12\n",
    "d = 3.14\n",
    "print(a>b and c>a)\n",
    "print(b>c and d>a)\n",
    "print(b<c or d>a)\n",
    "print( not a==b)\n",
    "print(not a==d)"
   ]
  },
  {
   "cell_type": "markdown",
   "id": "9a73b6c9",
   "metadata": {},
   "source": [
    "basic airthmetic using numbers"
   ]
  },
  {
   "cell_type": "code",
   "execution_count": 8,
   "id": "8b75aebd",
   "metadata": {},
   "outputs": [
    {
     "name": "stdout",
     "output_type": "stream",
     "text": [
      "8\n",
      "0.5\n",
      "2\n",
      "16\n",
      "25\n",
      "45\n"
     ]
    },
    {
     "data": {
      "text/plain": [
       "78"
      ]
     },
     "execution_count": 8,
     "metadata": {},
     "output_type": "execute_result"
    }
   ],
   "source": [
    "print(3+5) \n",
    "print(1/2) \n",
    "print(17%3) \n",
    "print(4**2) \n",
    "print(10+5*3) \n",
    "print((10+5)*3) \n",
    "(121+2) - (55-10)"
   ]
  },
  {
   "cell_type": "markdown",
   "id": "e0432f16",
   "metadata": {},
   "source": [
    "Identity operators"
   ]
  },
  {
   "cell_type": "code",
   "execution_count": 9,
   "id": "fcaf05de",
   "metadata": {},
   "outputs": [
    {
     "name": "stdout",
     "output_type": "stream",
     "text": [
      "False\n",
      "True\n"
     ]
    }
   ],
   "source": [
    "#The operators is or is not are employed to control if the operands or objects to the left and right of theseoperators are referring to a value stored in the same momory location and return True or False.\n",
    "\n",
    "lis1 = [3.14, 1.618]\n",
    "lis2 = [3.14, 1.618]\n",
    "print(lis1 is lis2) \n",
    "print(lis1 is not lis2)"
   ]
  },
  {
   "cell_type": "markdown",
   "id": "d8bf7ca8",
   "metadata": {},
   "source": [
    "Number data types (int, float, complex numbers)"
   ]
  },
  {
   "cell_type": "code",
   "execution_count": 10,
   "id": "a19ee430",
   "metadata": {},
   "outputs": [
    {
     "name": "stdout",
     "output_type": "stream",
     "text": [
      "<class 'int'> <class 'float'> <class 'complex'>\n"
     ]
    }
   ],
   "source": [
    "age =20 ; salary = 1.300 ; K =2+3j\n",
    "print(type(age) , type(salary) , type(K))"
   ]
  },
  {
   "cell_type": "markdown",
   "id": "5495116f",
   "metadata": {},
   "source": [
    "### Python Strings"
   ]
  },
  {
   "cell_type": "markdown",
   "id": "fb027663",
   "metadata": {},
   "source": [
    "Assign String to a Variable"
   ]
  },
  {
   "cell_type": "code",
   "execution_count": 11,
   "id": "06a02a8b",
   "metadata": {},
   "outputs": [
    {
     "data": {
      "text/plain": [
       "'ahmed mohamed'"
      ]
     },
     "execution_count": 11,
     "metadata": {},
     "output_type": "execute_result"
    }
   ],
   "source": [
    "name = \"ahmed mohamed\"\n",
    "name"
   ]
  },
  {
   "cell_type": "markdown",
   "id": "9ace39ad",
   "metadata": {},
   "source": [
    "Index Operator"
   ]
  },
  {
   "cell_type": "code",
   "execution_count": 12,
   "id": "c0ebbf7d",
   "metadata": {},
   "outputs": [
    {
     "name": "stdout",
     "output_type": "stream",
     "text": [
      "ahmed mohamed\n",
      "a\n",
      "m\n"
     ]
    }
   ],
   "source": [
    "print(name)\n",
    "print(name[0])\n",
    "print(name[10])"
   ]
  },
  {
   "cell_type": "markdown",
   "id": "b5e4c453",
   "metadata": {},
   "source": [
    "in operator"
   ]
  },
  {
   "cell_type": "code",
   "execution_count": 13,
   "id": "265f9b45",
   "metadata": {},
   "outputs": [
    {
     "name": "stdout",
     "output_type": "stream",
     "text": [
      "ahmed mohamed\n"
     ]
    }
   ],
   "source": [
    "print(name)"
   ]
  },
  {
   "cell_type": "code",
   "execution_count": 14,
   "id": "07361a0f",
   "metadata": {},
   "outputs": [
    {
     "data": {
      "text/plain": [
       "False"
      ]
     },
     "execution_count": 14,
     "metadata": {},
     "output_type": "execute_result"
    }
   ],
   "source": [
    "\"ali\" in name"
   ]
  },
  {
   "cell_type": "code",
   "execution_count": 15,
   "id": "f14f6dd4",
   "metadata": {},
   "outputs": [
    {
     "data": {
      "text/plain": [
       "False"
      ]
     },
     "execution_count": 15,
     "metadata": {},
     "output_type": "execute_result"
    }
   ],
   "source": [
    "\"any\" in name"
   ]
  },
  {
   "cell_type": "code",
   "execution_count": 16,
   "id": "026612df",
   "metadata": {},
   "outputs": [
    {
     "data": {
      "text/plain": [
       "False"
      ]
     },
     "execution_count": 16,
     "metadata": {},
     "output_type": "execute_result"
    }
   ],
   "source": [
    "\"M\" in name"
   ]
  },
  {
   "cell_type": "markdown",
   "id": "c6564c6c",
   "metadata": {},
   "source": [
    "String Slicing"
   ]
  },
  {
   "cell_type": "code",
   "execution_count": 17,
   "id": "b268db46",
   "metadata": {},
   "outputs": [
    {
     "name": "stdout",
     "output_type": "stream",
     "text": [
      "ahmed \n",
      "ahmed mohamed\n",
      "ahmed mohamed\n",
      "mohamed\n"
     ]
    }
   ],
   "source": [
    "print(name[0:6])\n",
    "print(name[0: ])\n",
    "print(name[ :15])\n",
    "print(name[6 :15])"
   ]
  },
  {
   "cell_type": "markdown",
   "id": "352a648d",
   "metadata": {},
   "source": [
    "### Python String Methods"
   ]
  },
  {
   "cell_type": "code",
   "execution_count": 18,
   "id": "35df75c2",
   "metadata": {},
   "outputs": [
    {
     "name": "stdout",
     "output_type": "stream",
     "text": [
      "13\n"
     ]
    }
   ],
   "source": [
    "#len function \n",
    "\n",
    "print(len(name))"
   ]
  },
  {
   "cell_type": "code",
   "execution_count": 19,
   "id": "529897c0",
   "metadata": {},
   "outputs": [
    {
     "name": "stdout",
     "output_type": "stream",
     "text": [
      "ali hany\n"
     ]
    }
   ],
   "source": [
    "#replace function {Returns a string where a specified value is replaced with a specified value}\n",
    "\n",
    "name = name.replace(\"ahmed\" , \"ali\").replace(\"mohamed\", \"hany\")\n",
    "print(name)"
   ]
  },
  {
   "cell_type": "code",
   "execution_count": 20,
   "id": "5003cbbb",
   "metadata": {},
   "outputs": [
    {
     "data": {
      "text/plain": [
       "'ALI HANY'"
      ]
     },
     "execution_count": 20,
     "metadata": {},
     "output_type": "execute_result"
    }
   ],
   "source": [
    "#upper {Converts a string into upper case}&\n",
    "#lower function {Converts a string into lower case}\n",
    "\n",
    "name.upper()"
   ]
  },
  {
   "cell_type": "code",
   "execution_count": 21,
   "id": "92fc35cb",
   "metadata": {},
   "outputs": [
    {
     "data": {
      "text/plain": [
       "'ali hany'"
      ]
     },
     "execution_count": 21,
     "metadata": {},
     "output_type": "execute_result"
    }
   ],
   "source": [
    "name.lower()"
   ]
  },
  {
   "cell_type": "code",
   "execution_count": 22,
   "id": "7a8429f4",
   "metadata": {},
   "outputs": [
    {
     "data": {
      "text/plain": [
       "'Ali hany'"
      ]
     },
     "execution_count": 22,
     "metadata": {},
     "output_type": "execute_result"
    }
   ],
   "source": [
    "#{ Converts the first character to upper case}\n",
    "\n",
    "name.capitalize()"
   ]
  },
  {
   "cell_type": "code",
   "execution_count": 23,
   "id": "9c7eae00",
   "metadata": {},
   "outputs": [
    {
     "data": {
      "text/plain": [
       "'Ali Hany'"
      ]
     },
     "execution_count": 23,
     "metadata": {},
     "output_type": "execute_result"
    }
   ],
   "source": [
    "#{ Converts the first character of each word to upper case}\n",
    "\n",
    "name.title()"
   ]
  },
  {
   "cell_type": "code",
   "execution_count": 24,
   "id": "cfc81931",
   "metadata": {},
   "outputs": [
    {
     "data": {
      "text/plain": [
       "False"
      ]
     },
     "execution_count": 24,
     "metadata": {},
     "output_type": "execute_result"
    }
   ],
   "source": [
    "#{ Returns True if all characters in the string are upper case}\n",
    "\n",
    "name.isupper()"
   ]
  },
  {
   "cell_type": "code",
   "execution_count": 25,
   "id": "ea6b20be",
   "metadata": {},
   "outputs": [
    {
     "data": {
      "text/plain": [
       "True"
      ]
     },
     "execution_count": 25,
     "metadata": {},
     "output_type": "execute_result"
    }
   ],
   "source": [
    "#{ Returns True if all characters in the string are lower case}\n",
    "\n",
    "name.islower()"
   ]
  },
  {
   "cell_type": "code",
   "execution_count": 26,
   "id": "dd7ca4f9",
   "metadata": {},
   "outputs": [
    {
     "data": {
      "text/plain": [
       "True"
      ]
     },
     "execution_count": 26,
     "metadata": {},
     "output_type": "execute_result"
    }
   ],
   "source": [
    "#isdigit { Returns True if all characters in the string are digits} &\n",
    "#index function { Searches the string for a specified value and returns the position of where it was found}\n",
    "\n",
    "num_1 = \"70360\"\n",
    "num_1.isdigit()"
   ]
  },
  {
   "cell_type": "code",
   "execution_count": 27,
   "id": "f2dfcea7",
   "metadata": {},
   "outputs": [
    {
     "data": {
      "text/plain": [
       "False"
      ]
     },
     "execution_count": 27,
     "metadata": {},
     "output_type": "execute_result"
    }
   ],
   "source": [
    "num_2 = \"ahmed123\"\n",
    "num_2.isdigit()"
   ]
  },
  {
   "cell_type": "code",
   "execution_count": 28,
   "id": "bb304bc2",
   "metadata": {},
   "outputs": [
    {
     "data": {
      "text/plain": [
       "'ali hany'"
      ]
     },
     "execution_count": 28,
     "metadata": {},
     "output_type": "execute_result"
    }
   ],
   "source": [
    "name"
   ]
  },
  {
   "cell_type": "code",
   "execution_count": 29,
   "id": "4d50d926",
   "metadata": {},
   "outputs": [
    {
     "data": {
      "text/plain": [
       "0"
      ]
     },
     "execution_count": 29,
     "metadata": {},
     "output_type": "execute_result"
    }
   ],
   "source": [
    "name.index(\"a\")"
   ]
  },
  {
   "cell_type": "code",
   "execution_count": 30,
   "id": "2b0f1ff4",
   "metadata": {},
   "outputs": [
    {
     "data": {
      "text/plain": [
       "6"
      ]
     },
     "execution_count": 30,
     "metadata": {},
     "output_type": "execute_result"
    }
   ],
   "source": [
    "name.index(\"n\")"
   ]
  },
  {
   "cell_type": "code",
   "execution_count": 31,
   "id": "f9d7d3b9",
   "metadata": {},
   "outputs": [
    {
     "data": {
      "text/plain": [
       "True"
      ]
     },
     "execution_count": 31,
     "metadata": {},
     "output_type": "execute_result"
    }
   ],
   "source": [
    "#endswith() {Returns true if the string ends with the specified value} and startswith Methods\n",
    "\n",
    "my_name = \"ahmed\"\n",
    "my_name.endswith(\"d\")"
   ]
  },
  {
   "cell_type": "code",
   "execution_count": 32,
   "id": "0e1352ad",
   "metadata": {},
   "outputs": [
    {
     "data": {
      "text/plain": [
       "False"
      ]
     },
     "execution_count": 32,
     "metadata": {},
     "output_type": "execute_result"
    }
   ],
   "source": [
    "my_name.startswith(\"m\")"
   ]
  },
  {
   "cell_type": "code",
   "execution_count": 33,
   "id": "57804df9",
   "metadata": {},
   "outputs": [
    {
     "data": {
      "text/plain": [
       "True"
      ]
     },
     "execution_count": 33,
     "metadata": {},
     "output_type": "execute_result"
    }
   ],
   "source": [
    "my_name.startswith(\"ah\")"
   ]
  },
  {
   "cell_type": "code",
   "execution_count": 35,
   "id": "b0fce252",
   "metadata": {},
   "outputs": [
    {
     "ename": "TypeError",
     "evalue": "unsupported operand type(s) for +: 'int' and 'str'",
     "output_type": "error",
     "traceback": [
      "\u001b[1;31m---------------------------------------------------------------------------\u001b[0m",
      "\u001b[1;31mTypeError\u001b[0m                                 Traceback (most recent call last)",
      "\u001b[1;32m~\\AppData\\Local\\Temp\\ipykernel_18592\\1598267558.py\u001b[0m in \u001b[0;36m<module>\u001b[1;34m\u001b[0m\n\u001b[0;32m      1\u001b[0m \u001b[1;31m#str function\u001b[0m\u001b[1;33m\u001b[0m\u001b[1;33m\u001b[0m\u001b[0m\n\u001b[0;32m      2\u001b[0m \u001b[1;33m\u001b[0m\u001b[0m\n\u001b[1;32m----> 3\u001b[1;33m \u001b[1;36m20\u001b[0m \u001b[1;33m+\u001b[0m \u001b[0mmy_name\u001b[0m\u001b[1;33m\u001b[0m\u001b[1;33m\u001b[0m\u001b[0m\n\u001b[0m",
      "\u001b[1;31mTypeError\u001b[0m: unsupported operand type(s) for +: 'int' and 'str'"
     ]
    }
   ],
   "source": [
    "#str function\n",
    "\n",
    "20 + my_name"
   ]
  },
  {
   "cell_type": "code",
   "execution_count": 36,
   "id": "e6b2553a",
   "metadata": {},
   "outputs": [
    {
     "data": {
      "text/plain": [
       "'20ahmed'"
      ]
     },
     "execution_count": 36,
     "metadata": {},
     "output_type": "execute_result"
    }
   ],
   "source": [
    "age= 20\n",
    "str(age) + my_name"
   ]
  },
  {
   "cell_type": "code",
   "execution_count": 37,
   "id": "bb534425",
   "metadata": {},
   "outputs": [
    {
     "data": {
      "text/plain": [
       "['my',\n",
       " 'name',\n",
       " 'is',\n",
       " 'ahmed',\n",
       " ':',\n",
       " 'and',\n",
       " 'my',\n",
       " 'age',\n",
       " 'is',\n",
       " '20',\n",
       " ':',\n",
       " 'and',\n",
       " 'my',\n",
       " 'departement',\n",
       " 'is',\n",
       " 'cs']"
      ]
     },
     "execution_count": 37,
     "metadata": {},
     "output_type": "execute_result"
    }
   ],
   "source": [
    "#split function  { Splits the string at the specified separator, and returns a list }\n",
    "\n",
    "data = \"my name is ahmed : and my age is 20 : and my departement is cs\"\n",
    "data.split()"
   ]
  },
  {
   "cell_type": "code",
   "execution_count": 38,
   "id": "dfc2c20c",
   "metadata": {},
   "outputs": [
    {
     "data": {
      "text/plain": [
       "['my name is ahmed ', ' and my age is 20 ', ' and my departement is cs']"
      ]
     },
     "execution_count": 38,
     "metadata": {},
     "output_type": "execute_result"
    }
   ],
   "source": [
    "data.split(\":\")"
   ]
  },
  {
   "cell_type": "code",
   "execution_count": 39,
   "id": "e771f8a5",
   "metadata": {},
   "outputs": [
    {
     "data": {
      "text/plain": [
       "'my name is ahmed '"
      ]
     },
     "execution_count": 39,
     "metadata": {},
     "output_type": "execute_result"
    }
   ],
   "source": [
    "data.split(\":\")[0]"
   ]
  },
  {
   "cell_type": "code",
   "execution_count": 40,
   "id": "4cc11dfe",
   "metadata": {},
   "outputs": [
    {
     "data": {
      "text/plain": [
       "' and my age is 20 '"
      ]
     },
     "execution_count": 40,
     "metadata": {},
     "output_type": "execute_result"
    }
   ],
   "source": [
    "data.split(\":\")[1]"
   ]
  },
  {
   "cell_type": "code",
   "execution_count": 41,
   "id": "073124d4",
   "metadata": {},
   "outputs": [
    {
     "data": {
      "text/plain": [
       "' and my departement is cs'"
      ]
     },
     "execution_count": 41,
     "metadata": {},
     "output_type": "execute_result"
    }
   ],
   "source": [
    "data.split(\":\")[2]"
   ]
  },
  {
   "cell_type": "code",
   "execution_count": 42,
   "id": "0f16fc48",
   "metadata": {},
   "outputs": [
    {
     "data": {
      "text/plain": [
       "'ahmed'"
      ]
     },
     "execution_count": 42,
     "metadata": {},
     "output_type": "execute_result"
    }
   ],
   "source": [
    "#find() Method { Searches the string for a specified value and returns the position of where it was found }\n",
    "\n",
    "my_name"
   ]
  },
  {
   "cell_type": "code",
   "execution_count": 43,
   "id": "9a9955d7",
   "metadata": {},
   "outputs": [
    {
     "data": {
      "text/plain": [
       "0"
      ]
     },
     "execution_count": 43,
     "metadata": {},
     "output_type": "execute_result"
    }
   ],
   "source": [
    "my_name.find(\"a\")"
   ]
  },
  {
   "cell_type": "code",
   "execution_count": 44,
   "id": "2c83cb8d",
   "metadata": {},
   "outputs": [
    {
     "data": {
      "text/plain": [
       "2"
      ]
     },
     "execution_count": 44,
     "metadata": {},
     "output_type": "execute_result"
    }
   ],
   "source": [
    "my_name.find(\"m\")"
   ]
  },
  {
   "cell_type": "markdown",
   "id": "ec9091d1",
   "metadata": {},
   "source": [
    "Remove Whitespace"
   ]
  },
  {
   "cell_type": "code",
   "execution_count": 45,
   "id": "c8ae2f9c",
   "metadata": {},
   "outputs": [
    {
     "name": "stdout",
     "output_type": "stream",
     "text": [
      "          Hell   o, World! \n"
     ]
    }
   ],
   "source": [
    "a = \"          Hell   o, World! \"\n",
    "print(a)"
   ]
  },
  {
   "cell_type": "code",
   "execution_count": 46,
   "id": "dc4eb264",
   "metadata": {},
   "outputs": [
    {
     "data": {
      "text/plain": [
       "'Hell   o, World!'"
      ]
     },
     "execution_count": 46,
     "metadata": {},
     "output_type": "execute_result"
    }
   ],
   "source": [
    "a.strip()"
   ]
  },
  {
   "cell_type": "markdown",
   "id": "3cec0ee9",
   "metadata": {},
   "source": [
    "quote or double quote inside the string"
   ]
  },
  {
   "cell_type": "code",
   "execution_count": 47,
   "id": "827cabfa",
   "metadata": {},
   "outputs": [
    {
     "data": {
      "text/plain": [
       "\"let's learn python\""
      ]
     },
     "execution_count": 47,
     "metadata": {},
     "output_type": "execute_result"
    }
   ],
   "source": [
    "text=\"let's learn python\"\n",
    "text"
   ]
  },
  {
   "cell_type": "code",
   "execution_count": 48,
   "id": "77331251",
   "metadata": {},
   "outputs": [
    {
     "ename": "SyntaxError",
     "evalue": "invalid syntax (2702983837.py, line 1)",
     "output_type": "error",
     "traceback": [
      "\u001b[1;36m  File \u001b[1;32m\"C:\\Users\\Lenovo\\AppData\\Local\\Temp\\ipykernel_18592\\2702983837.py\"\u001b[1;36m, line \u001b[1;32m1\u001b[0m\n\u001b[1;33m    text='let's learn python'\u001b[0m\n\u001b[1;37m              ^\u001b[0m\n\u001b[1;31mSyntaxError\u001b[0m\u001b[1;31m:\u001b[0m invalid syntax\n"
     ]
    }
   ],
   "source": [
    "text='let's learn python'\n",
    "text"
   ]
  },
  {
   "cell_type": "code",
   "execution_count": 49,
   "id": "dd6b0cc4",
   "metadata": {},
   "outputs": [
    {
     "data": {
      "text/plain": [
       "\"let's learn python\""
      ]
     },
     "execution_count": 49,
     "metadata": {},
     "output_type": "execute_result"
    }
   ],
   "source": [
    "text='let\\'s learn python'\n",
    "text"
   ]
  },
  {
   "cell_type": "markdown",
   "id": "07f6e4bb",
   "metadata": {},
   "source": [
    "Special characters : newline and tab"
   ]
  },
  {
   "cell_type": "code",
   "execution_count": 50,
   "id": "375406b5",
   "metadata": {},
   "outputs": [
    {
     "name": "stdout",
     "output_type": "stream",
     "text": [
      "Hello world\n"
     ]
    }
   ],
   "source": [
    "s='Hello world'\n",
    "print(s)"
   ]
  },
  {
   "cell_type": "code",
   "execution_count": 51,
   "id": "3530fef8",
   "metadata": {},
   "outputs": [
    {
     "name": "stdout",
     "output_type": "stream",
     "text": [
      "Hello\n",
      "world\n"
     ]
    }
   ],
   "source": [
    "s='Hello\\nworld'\n",
    "print(s)"
   ]
  },
  {
   "cell_type": "code",
   "execution_count": 52,
   "id": "1a38c4a2",
   "metadata": {},
   "outputs": [
    {
     "name": "stdout",
     "output_type": "stream",
     "text": [
      "Hello\tworld\n"
     ]
    }
   ],
   "source": [
    "s='Hello\\tworld'\n",
    "print(s)"
   ]
  },
  {
   "cell_type": "markdown",
   "id": "c3d18a61",
   "metadata": {},
   "source": [
    "### Python List"
   ]
  },
  {
   "cell_type": "code",
   "execution_count": 53,
   "id": "9abda8ed",
   "metadata": {},
   "outputs": [],
   "source": [
    "First_List = [\"Ali\", 100, \"MU\"]      \n",
    "second_List = [110, 220, 330, 440, 550, 660]  "
   ]
  },
  {
   "cell_type": "code",
   "execution_count": 54,
   "id": "688badfb",
   "metadata": {},
   "outputs": [
    {
     "data": {
      "text/plain": [
       "['Ali', 100, 'MU']"
      ]
     },
     "execution_count": 54,
     "metadata": {},
     "output_type": "execute_result"
    }
   ],
   "source": [
    "First_List"
   ]
  },
  {
   "cell_type": "code",
   "execution_count": 55,
   "id": "d0b4270a",
   "metadata": {},
   "outputs": [
    {
     "data": {
      "text/plain": [
       "[110, 220, 330, 440, 550, 660]"
      ]
     },
     "execution_count": 55,
     "metadata": {},
     "output_type": "execute_result"
    }
   ],
   "source": [
    "second_List"
   ]
  },
  {
   "cell_type": "code",
   "execution_count": 56,
   "id": "48950447",
   "metadata": {},
   "outputs": [
    {
     "name": "stdout",
     "output_type": "stream",
     "text": [
      "<class 'list'>\n"
     ]
    }
   ],
   "source": [
    "print(type(second_List))"
   ]
  },
  {
   "cell_type": "markdown",
   "id": "1e7e799d",
   "metadata": {},
   "source": [
    "Index Operator"
   ]
  },
  {
   "cell_type": "code",
   "execution_count": 57,
   "id": "9a9bf610",
   "metadata": {},
   "outputs": [
    {
     "data": {
      "text/plain": [
       "'Ali'"
      ]
     },
     "execution_count": 57,
     "metadata": {},
     "output_type": "execute_result"
    }
   ],
   "source": [
    "First_List[0]"
   ]
  },
  {
   "cell_type": "code",
   "execution_count": 58,
   "id": "586e82db",
   "metadata": {},
   "outputs": [
    {
     "data": {
      "text/plain": [
       "'MU'"
      ]
     },
     "execution_count": 58,
     "metadata": {},
     "output_type": "execute_result"
    }
   ],
   "source": [
    "First_List[-1]"
   ]
  },
  {
   "cell_type": "code",
   "execution_count": 59,
   "id": "cdc850af",
   "metadata": {},
   "outputs": [
    {
     "data": {
      "text/plain": [
       "[110, 220, 330, 440, 550]"
      ]
     },
     "execution_count": 59,
     "metadata": {},
     "output_type": "execute_result"
    }
   ],
   "source": [
    "second_List[0:5]"
   ]
  },
  {
   "cell_type": "markdown",
   "id": "ecac13a5",
   "metadata": {},
   "source": [
    "len() function"
   ]
  },
  {
   "cell_type": "code",
   "execution_count": 60,
   "id": "e3542ad0",
   "metadata": {},
   "outputs": [
    {
     "name": "stdout",
     "output_type": "stream",
     "text": [
      "3\n"
     ]
    }
   ],
   "source": [
    "print(len(First_List))"
   ]
  },
  {
   "cell_type": "markdown",
   "id": "9279e3fe",
   "metadata": {},
   "source": [
    "in operator"
   ]
  },
  {
   "cell_type": "code",
   "execution_count": 61,
   "id": "f2663a3a",
   "metadata": {},
   "outputs": [
    {
     "data": {
      "text/plain": [
       "False"
      ]
     },
     "execution_count": 61,
     "metadata": {},
     "output_type": "execute_result"
    }
   ],
   "source": [
    "5 in second_List"
   ]
  },
  {
   "cell_type": "code",
   "execution_count": 62,
   "id": "f3d99d43",
   "metadata": {},
   "outputs": [
    {
     "data": {
      "text/plain": [
       "False"
      ]
     },
     "execution_count": 62,
     "metadata": {},
     "output_type": "execute_result"
    }
   ],
   "source": [
    "\"ahmed\" in First_List"
   ]
  },
  {
   "cell_type": "markdown",
   "id": "ffe4ccab",
   "metadata": {},
   "source": [
    "append and insert functions"
   ]
  },
  {
   "cell_type": "code",
   "execution_count": 63,
   "id": "84fb441d",
   "metadata": {},
   "outputs": [
    {
     "data": {
      "text/plain": [
       "['Ali', 100, 'MU', 'ahmed']"
      ]
     },
     "execution_count": 63,
     "metadata": {},
     "output_type": "execute_result"
    }
   ],
   "source": [
    "First_List.append(\"ahmed\")\n",
    "First_List"
   ]
  },
  {
   "cell_type": "code",
   "execution_count": 64,
   "id": "cd70d0e8",
   "metadata": {},
   "outputs": [
    {
     "data": {
      "text/plain": [
       "['index zero', 110, 220, 330, 440, 550, 660]"
      ]
     },
     "execution_count": 64,
     "metadata": {},
     "output_type": "execute_result"
    }
   ],
   "source": [
    "second_List.insert(0, \"index zero\")\n",
    "second_List"
   ]
  },
  {
   "cell_type": "markdown",
   "id": "31ec5014",
   "metadata": {},
   "source": [
    "Adding two lists"
   ]
  },
  {
   "cell_type": "code",
   "execution_count": 65,
   "id": "24d5a0a8",
   "metadata": {},
   "outputs": [
    {
     "data": {
      "text/plain": [
       "['Ali', 100, 'MU', 110, 220, 330, 440, 550, 660]"
      ]
     },
     "execution_count": 65,
     "metadata": {},
     "output_type": "execute_result"
    }
   ],
   "source": [
    "First_List = [\"Ali\", 100, \"MU\"]      \n",
    "second_List = [110, 220, 330, 440, 550, 660] \n",
    "First_List + second_List"
   ]
  },
  {
   "cell_type": "markdown",
   "id": "b1aa0863",
   "metadata": {},
   "source": [
    "List items can be changed using index and slice index"
   ]
  },
  {
   "cell_type": "code",
   "execution_count": 66,
   "id": "692ef816",
   "metadata": {},
   "outputs": [
    {
     "data": {
      "text/plain": [
       "['Ahmed', 100, 'MU']"
      ]
     },
     "execution_count": 66,
     "metadata": {},
     "output_type": "execute_result"
    }
   ],
   "source": [
    "First_List[0] = \"Ahmed\"\n",
    "First_List"
   ]
  },
  {
   "cell_type": "code",
   "execution_count": 67,
   "id": "d74a073e",
   "metadata": {},
   "outputs": [
    {
     "data": {
      "text/plain": [
       "[330, 330, 440, 550, 660]"
      ]
     },
     "execution_count": 67,
     "metadata": {},
     "output_type": "execute_result"
    }
   ],
   "source": [
    "second_List[0:2]= [330]\n",
    "second_List"
   ]
  },
  {
   "cell_type": "markdown",
   "id": "313a852e",
   "metadata": {},
   "source": [
    "Extend List"
   ]
  },
  {
   "cell_type": "code",
   "execution_count": 68,
   "id": "a66db59c",
   "metadata": {},
   "outputs": [
    {
     "data": {
      "text/plain": [
       "['Ahmed', 100, 'MU', 330, 330, 440, 550, 660]"
      ]
     },
     "execution_count": 68,
     "metadata": {},
     "output_type": "execute_result"
    }
   ],
   "source": [
    "First_List.extend(second_List)\n",
    "First_List"
   ]
  },
  {
   "cell_type": "markdown",
   "id": "6c7571a0",
   "metadata": {},
   "source": [
    "Remove Specified Item"
   ]
  },
  {
   "cell_type": "code",
   "execution_count": 69,
   "id": "af88d0af",
   "metadata": {},
   "outputs": [
    {
     "data": {
      "text/plain": [
       "['Ahmed', 'MU', 330, 330, 440, 550, 660]"
      ]
     },
     "execution_count": 69,
     "metadata": {},
     "output_type": "execute_result"
    }
   ],
   "source": [
    "First_List.remove(100)\n",
    "First_List"
   ]
  },
  {
   "cell_type": "code",
   "execution_count": 70,
   "id": "e922a70a",
   "metadata": {},
   "outputs": [
    {
     "data": {
      "text/plain": [
       "660"
      ]
     },
     "execution_count": 70,
     "metadata": {},
     "output_type": "execute_result"
    }
   ],
   "source": [
    "second_List.pop()"
   ]
  },
  {
   "cell_type": "code",
   "execution_count": 71,
   "id": "c3f2bf76",
   "metadata": {},
   "outputs": [
    {
     "data": {
      "text/plain": [
       "[330, 330, 440, 550]"
      ]
     },
     "execution_count": 71,
     "metadata": {},
     "output_type": "execute_result"
    }
   ],
   "source": [
    "second_List"
   ]
  },
  {
   "cell_type": "code",
   "execution_count": 72,
   "id": "78cc3e8e",
   "metadata": {},
   "outputs": [
    {
     "data": {
      "text/plain": [
       "['Ahmed', 330, 330, 440, 550, 660]"
      ]
     },
     "execution_count": 72,
     "metadata": {},
     "output_type": "execute_result"
    }
   ],
   "source": [
    "del First_List[1]\n",
    "First_List"
   ]
  },
  {
   "cell_type": "markdown",
   "id": "bc6cde96",
   "metadata": {},
   "source": [
    "Clear the List"
   ]
  },
  {
   "cell_type": "code",
   "execution_count": 73,
   "id": "c6ac7823",
   "metadata": {},
   "outputs": [
    {
     "data": {
      "text/plain": [
       "['Ahmed', 330, 330, 440, 550, 660]"
      ]
     },
     "execution_count": 73,
     "metadata": {},
     "output_type": "execute_result"
    }
   ],
   "source": [
    "First_List"
   ]
  },
  {
   "cell_type": "code",
   "execution_count": 74,
   "id": "6b90b5bb",
   "metadata": {},
   "outputs": [
    {
     "data": {
      "text/plain": [
       "[]"
      ]
     },
     "execution_count": 74,
     "metadata": {},
     "output_type": "execute_result"
    }
   ],
   "source": [
    "First_List.clear()\n",
    "First_List"
   ]
  },
  {
   "cell_type": "markdown",
   "id": "58efc418",
   "metadata": {},
   "source": [
    "Reverse Order"
   ]
  },
  {
   "cell_type": "code",
   "execution_count": 75,
   "id": "e50cf877",
   "metadata": {},
   "outputs": [
    {
     "data": {
      "text/plain": [
       "['cherry', 'banana', 'apple']"
      ]
     },
     "execution_count": 75,
     "metadata": {},
     "output_type": "execute_result"
    }
   ],
   "source": [
    "thislist = [\"apple\", \"banana\", \"cherry\"]\n",
    "thislist.reverse()\n",
    "thislist"
   ]
  },
  {
   "cell_type": "markdown",
   "id": "4180c610",
   "metadata": {},
   "source": [
    "Sort List"
   ]
  },
  {
   "cell_type": "code",
   "execution_count": 76,
   "id": "21ceed1c",
   "metadata": {},
   "outputs": [
    {
     "data": {
      "text/plain": [
       "[-66, -20, 0, 1, 2, 3, 6, 16, 20, 20, 23, 23, 33, 47, 64, 67, 152, 155, 648]"
      ]
     },
     "execution_count": 76,
     "metadata": {},
     "output_type": "execute_result"
    }
   ],
   "source": [
    "un_sorted_list = [2,20,3,0,155,64,67,16,1,23,33,47,6,-20,-66,20,152,23,648]\n",
    "un_sorted_list.sort()\n",
    "un_sorted_list"
   ]
  },
  {
   "cell_type": "code",
   "execution_count": 77,
   "id": "4236a61a",
   "metadata": {},
   "outputs": [
    {
     "data": {
      "text/plain": [
       "[648, 155, 152, 67, 64, 47, 33, 23, 23, 20, 20, 16, 6, 3, 2, 1, 0, -20, -66]"
      ]
     },
     "execution_count": 77,
     "metadata": {},
     "output_type": "execute_result"
    }
   ],
   "source": [
    "un_sorted_list.sort(reverse= True)\n",
    "un_sorted_list"
   ]
  },
  {
   "cell_type": "markdown",
   "id": "3f4dd832",
   "metadata": {},
   "source": [
    "Copy a List"
   ]
  },
  {
   "cell_type": "code",
   "execution_count": 78,
   "id": "1d209394",
   "metadata": {},
   "outputs": [
    {
     "data": {
      "text/plain": [
       "[10, 20, 30, 50]"
      ]
     },
     "execution_count": 78,
     "metadata": {},
     "output_type": "execute_result"
    }
   ],
   "source": [
    "list_1 = [10,20,30, 50]\n",
    "list_2 = [25,23,55]\n",
    "list_3 = list_1\n",
    "list_3 "
   ]
  },
  {
   "cell_type": "code",
   "execution_count": 79,
   "id": "61b138be",
   "metadata": {},
   "outputs": [
    {
     "data": {
      "text/plain": [
       "[10, 20, 30, 50]"
      ]
     },
     "execution_count": 79,
     "metadata": {},
     "output_type": "execute_result"
    }
   ],
   "source": [
    "list_3 = list_1.copy()\n",
    "list_3 "
   ]
  },
  {
   "cell_type": "markdown",
   "id": "4d39cf2f",
   "metadata": {},
   "source": [
    "### python_dictionaries"
   ]
  },
  {
   "cell_type": "code",
   "execution_count": 80,
   "id": "69f23b4a",
   "metadata": {},
   "outputs": [
    {
     "name": "stdout",
     "output_type": "stream",
     "text": [
      "{'name': 'ahmed', 'age': 20, 'country': 'Egypt', 'BOD': '20-5-2001', 'collage': 'CS'}\n"
     ]
    }
   ],
   "source": [
    "person1 = {\n",
    "    \"name\" : \"ahmed\" , \n",
    "    \"age\" : 20 , \n",
    "    \"country\" : \"Egypt\" , \n",
    "    \"BOD\" : \"20-5-2001\" , \n",
    "    \"collage\" : \"CS\"\n",
    "}\n",
    "print(person1)"
   ]
  },
  {
   "cell_type": "code",
   "execution_count": 81,
   "id": "390d0e25",
   "metadata": {},
   "outputs": [
    {
     "name": "stdout",
     "output_type": "stream",
     "text": [
      "dict_keys(['name', 'age', 'country', 'BOD', 'collage'])\n"
     ]
    }
   ],
   "source": [
    "print(person1.keys())"
   ]
  },
  {
   "cell_type": "code",
   "execution_count": 82,
   "id": "7fa39251",
   "metadata": {},
   "outputs": [
    {
     "name": "stdout",
     "output_type": "stream",
     "text": [
      "dict_values(['ahmed', 20, 'Egypt', '20-5-2001', 'CS'])\n"
     ]
    }
   ],
   "source": [
    "print(person1.values())"
   ]
  },
  {
   "cell_type": "code",
   "execution_count": 83,
   "id": "1503deb6",
   "metadata": {},
   "outputs": [
    {
     "name": "stdout",
     "output_type": "stream",
     "text": [
      "ahmed\n"
     ]
    }
   ],
   "source": [
    "print(person1[\"name\"])"
   ]
  },
  {
   "cell_type": "code",
   "execution_count": 84,
   "id": "41c04cb2",
   "metadata": {},
   "outputs": [
    {
     "name": "stdout",
     "output_type": "stream",
     "text": [
      "{'WEB': {'front end': ['html', 'css', 'java script', 'bootstap', 'react', 'angular', 'responsive web'], 'back end': ['html', 'css', 'php', 'database', 'sass']}, 'data science': {'Data analysis': ['statistics', 'python', 'R', 'ml', 'DL', 'AI '], 'Data engneer': ['database', 'sql', 'mongodb', 'ml', 'DL', 'AI ']}, 'Mobile application': {'flutter': ['Dart', 'responsive', 'flutter', 'wedget'], 'android': ['java', 'kotlen', 'oop', 'responsive']}}\n"
     ]
    }
   ],
   "source": [
    "computer_science = {\n",
    "\n",
    "    \"WEB\" : {\n",
    "       \"front end\" : [\"html\" , \"css\" , \"java script\" , \"bootstap\" , \"react\" , \"angular\" , \"responsive web\"] ,\n",
    "       \"back end\" : [\"html\" , \"css\" , \"php\" , \"database\" , \"sass\"] \n",
    "\n",
    "    } ,\n",
    "    \"data science\" : {\n",
    "        \"Data analysis\" : [\"statistics\" , \"python\" , \"R\" , \"ml\" , \"DL\" , \"AI \"] , \n",
    "        \"Data engneer\" : [\"database\" , \"sql\" , \"mongodb\" , \"ml\" , \"DL\" , \"AI \"] , \n",
    "\n",
    "    } , \n",
    "\n",
    "    \"Mobile application\" : {\n",
    "        \"flutter\" : [\"Dart\" , \"responsive\" , \"flutter\" , \"wedget\"], \n",
    "        \"android\" : [\"java\" , \"kotlen\" , \"oop\" , \"responsive\"]\n",
    "    }\n",
    "\n",
    "}\n",
    "print(computer_science)"
   ]
  },
  {
   "cell_type": "code",
   "execution_count": 85,
   "id": "ff426724",
   "metadata": {},
   "outputs": [
    {
     "name": "stdout",
     "output_type": "stream",
     "text": [
      "dict_keys(['WEB', 'data science', 'Mobile application'])\n",
      "dict_values([{'front end': ['html', 'css', 'java script', 'bootstap', 'react', 'angular', 'responsive web'], 'back end': ['html', 'css', 'php', 'database', 'sass']}, {'Data analysis': ['statistics', 'python', 'R', 'ml', 'DL', 'AI '], 'Data engneer': ['database', 'sql', 'mongodb', 'ml', 'DL', 'AI ']}, {'flutter': ['Dart', 'responsive', 'flutter', 'wedget'], 'android': ['java', 'kotlen', 'oop', 'responsive']}])\n"
     ]
    }
   ],
   "source": [
    "print(computer_science.keys())\n",
    "print(computer_science.values())"
   ]
  },
  {
   "cell_type": "code",
   "execution_count": 86,
   "id": "0db75866",
   "metadata": {},
   "outputs": [
    {
     "name": "stdout",
     "output_type": "stream",
     "text": [
      "{'front end': ['html', 'css', 'java script', 'bootstap', 'react', 'angular', 'responsive web'], 'back end': ['html', 'css', 'php', 'database', 'sass']}\n"
     ]
    }
   ],
   "source": [
    "print(computer_science[\"WEB\"])"
   ]
  },
  {
   "cell_type": "code",
   "execution_count": 87,
   "id": "3b231968",
   "metadata": {},
   "outputs": [
    {
     "name": "stdout",
     "output_type": "stream",
     "text": [
      "['html', 'css', 'java script', 'bootstap', 'react', 'angular', 'responsive web']\n"
     ]
    }
   ],
   "source": [
    "print(computer_science[\"WEB\"][\"front end\"])"
   ]
  },
  {
   "cell_type": "code",
   "execution_count": 88,
   "id": "dab3533f",
   "metadata": {},
   "outputs": [
    {
     "name": "stdout",
     "output_type": "stream",
     "text": [
      "bootstap\n"
     ]
    }
   ],
   "source": [
    "print(computer_science[\"WEB\"][\"front end\"][3])"
   ]
  },
  {
   "cell_type": "code",
   "execution_count": 89,
   "id": "3f380611",
   "metadata": {},
   "outputs": [
    {
     "name": "stdout",
     "output_type": "stream",
     "text": [
      "3\n"
     ]
    }
   ],
   "source": [
    "print(len(computer_science))"
   ]
  },
  {
   "cell_type": "code",
   "execution_count": 90,
   "id": "2fbe677c",
   "metadata": {},
   "outputs": [
    {
     "name": "stdout",
     "output_type": "stream",
     "text": [
      "2\n"
     ]
    }
   ],
   "source": [
    "print(len(computer_science[\"data science\"]))"
   ]
  },
  {
   "cell_type": "code",
   "execution_count": 91,
   "id": "106bc2c3",
   "metadata": {},
   "outputs": [],
   "source": [
    "person_2={\n",
    "    \"name\": \"menna\",\n",
    "    \"age\" : 20 ,\n",
    "    \"country\" : \"Egypt\" , \n",
    "    \"BOD\" : \"9-11-2001\" , \n",
    "    \"collage\" : \"CS\"\n",
    "}"
   ]
  },
  {
   "cell_type": "code",
   "execution_count": 92,
   "id": "a94471fe",
   "metadata": {},
   "outputs": [
    {
     "name": "stdout",
     "output_type": "stream",
     "text": [
      "{'name': 'menna', 'age': 21, 'country': 'Egypt', 'BOD': '9-11-2001', 'collage': 'CS', 'color': 'balck'}\n"
     ]
    }
   ],
   "source": [
    "# update dict \n",
    "person_2.update({\"color\" : \"balck\", \"age\" : 21})\n",
    "print(person_2)"
   ]
  },
  {
   "cell_type": "code",
   "execution_count": 93,
   "id": "c855405a",
   "metadata": {},
   "outputs": [
    {
     "data": {
      "text/plain": [
       "{}"
      ]
     },
     "execution_count": 93,
     "metadata": {},
     "output_type": "execute_result"
    }
   ],
   "source": [
    "# clear dict \n",
    "person_2.clear()\n",
    "person_2"
   ]
  },
  {
   "cell_type": "code",
   "execution_count": 94,
   "id": "836532e4",
   "metadata": {},
   "outputs": [
    {
     "name": "stdout",
     "output_type": "stream",
     "text": [
      "{'name': 'ahmed', 'age': 20, 'country': 'Egypt', 'BOD': '20-5-2001', 'collage': 'CS'}\n"
     ]
    }
   ],
   "source": [
    "# copy dict \n",
    "person3 = person1.copy()\n",
    "print(person3)"
   ]
  },
  {
   "cell_type": "code",
   "execution_count": 95,
   "id": "a3408617",
   "metadata": {},
   "outputs": [
    {
     "name": "stdout",
     "output_type": "stream",
     "text": [
      "('collage', 'CS')\n"
     ]
    }
   ],
   "source": [
    "# popitem \n",
    "print(person3.popitem())"
   ]
  },
  {
   "cell_type": "code",
   "execution_count": 96,
   "id": "aaddeb2b",
   "metadata": {},
   "outputs": [
    {
     "name": "stdout",
     "output_type": "stream",
     "text": [
      "{'name': 'ahmed', 'age': 20, 'country': 'Egypt', 'BOD': '20-5-2001'}\n"
     ]
    }
   ],
   "source": [
    "print(person3)"
   ]
  },
  {
   "cell_type": "markdown",
   "id": "f3e12d2f",
   "metadata": {},
   "source": [
    "### Tuples in Python"
   ]
  },
  {
   "cell_type": "code",
   "execution_count": 97,
   "id": "cde19c22",
   "metadata": {},
   "outputs": [
    {
     "name": "stdout",
     "output_type": "stream",
     "text": [
      "(1, 5, 'ahmed', [58, 'ali', 'hany'], {1: 'A', 2: 'B'})\n",
      "<class 'tuple'>\n",
      "5\n"
     ]
    }
   ],
   "source": [
    "tuple_1 = (1 ,5 ,\"ahmed\" , [58, \"ali\" , \"hany\"] , {1:\"A\" , 2:\"B\"})\n",
    "print(tuple_1)\n",
    "print(type(tuple_1))\n",
    "print(len(tuple_1))"
   ]
  },
  {
   "cell_type": "code",
   "execution_count": 98,
   "id": "1176d14a",
   "metadata": {},
   "outputs": [
    {
     "name": "stdout",
     "output_type": "stream",
     "text": [
      "1\n",
      "{1: 'A', 2: 'B'}\n"
     ]
    }
   ],
   "source": [
    "print(tuple_1[0])\n",
    "print(tuple_1[-1])"
   ]
  },
  {
   "cell_type": "code",
   "execution_count": 99,
   "id": "86d915d6",
   "metadata": {},
   "outputs": [
    {
     "data": {
      "text/plain": [
       "(1, 5, 'ahmed')"
      ]
     },
     "execution_count": 99,
     "metadata": {},
     "output_type": "execute_result"
    }
   ],
   "source": [
    "tuple_1[0:3]"
   ]
  },
  {
   "cell_type": "code",
   "execution_count": 100,
   "id": "9de7ba48",
   "metadata": {},
   "outputs": [
    {
     "data": {
      "text/plain": [
       "5"
      ]
     },
     "execution_count": 100,
     "metadata": {},
     "output_type": "execute_result"
    }
   ],
   "source": [
    "len(tuple_1)"
   ]
  },
  {
   "cell_type": "code",
   "execution_count": 101,
   "id": "6331ed0b",
   "metadata": {},
   "outputs": [
    {
     "name": "stdout",
     "output_type": "stream",
     "text": [
      "True\n",
      "True\n",
      "True\n",
      "False\n"
     ]
    }
   ],
   "source": [
    "print(1 in tuple_1)\n",
    "print(2 not in tuple_1)\n",
    "print(\"ahmed\" in tuple_1)\n",
    "print(5 not in tuple_1)"
   ]
  },
  {
   "cell_type": "code",
   "execution_count": 102,
   "id": "f0bfcb1a",
   "metadata": {},
   "outputs": [],
   "source": [
    "tuple_2 = (1 , 5 ,8 , 7 ,-3)"
   ]
  },
  {
   "cell_type": "code",
   "execution_count": 103,
   "id": "f24c93e5",
   "metadata": {},
   "outputs": [
    {
     "name": "stdout",
     "output_type": "stream",
     "text": [
      "8\n",
      "-3\n"
     ]
    }
   ],
   "source": [
    "print(max(tuple_2))\n",
    "print(min(tuple_2))"
   ]
  },
  {
   "cell_type": "code",
   "execution_count": 104,
   "id": "cbe45c13",
   "metadata": {},
   "outputs": [
    {
     "data": {
      "text/plain": [
       "(1, 5, 8, 7, -3, 1, 5, 8, 7, -3, 1, 5, 8, 7, -3)"
      ]
     },
     "execution_count": 104,
     "metadata": {},
     "output_type": "execute_result"
    }
   ],
   "source": [
    "tuple_2*3"
   ]
  },
  {
   "cell_type": "code",
   "execution_count": 105,
   "id": "1b8a122d",
   "metadata": {},
   "outputs": [
    {
     "data": {
      "text/plain": [
       "[-3, 1, 5, 7, 8]"
      ]
     },
     "execution_count": 105,
     "metadata": {},
     "output_type": "execute_result"
    }
   ],
   "source": [
    "sorted(tuple_2)"
   ]
  },
  {
   "cell_type": "markdown",
   "id": "3253e5b9",
   "metadata": {},
   "source": [
    "Nested_tuple"
   ]
  },
  {
   "cell_type": "code",
   "execution_count": 108,
   "id": "acca6341",
   "metadata": {},
   "outputs": [
    {
     "name": "stdout",
     "output_type": "stream",
     "text": [
      "(0, 5)\n",
      "(3.14, 'ai', (1.618, ' bio'))\n",
      "(1.618, ' bio')\n"
     ]
    }
   ],
   "source": [
    "nested_tuple =('cs', (0, 5), ('it', 'is'), (3.14, 'ai', (1.618, ' bio')) )\n",
    "print(nested_tuple[1])\n",
    "print(nested_tuple[3])\n",
    "print(nested_tuple[3][2])"
   ]
  },
  {
   "cell_type": "code",
   "execution_count": 109,
   "id": "bd59b20e",
   "metadata": {},
   "outputs": [
    {
     "data": {
      "text/plain": [
       "('A', 'B', 'C', 'D', 'E', 'F', 'G')"
      ]
     },
     "execution_count": 109,
     "metadata": {},
     "output_type": "execute_result"
    }
   ],
   "source": [
    "seq =\"ABCDEFG\"\n",
    "tuple(seq)"
   ]
  },
  {
   "cell_type": "code",
   "execution_count": 110,
   "id": "b8296ea8",
   "metadata": {},
   "outputs": [
    {
     "name": "stdout",
     "output_type": "stream",
     "text": [
      "(1, 5, 'ahmed', [58, 'ali', 'hany'], {1: 'A', 2: 'B'}, 1, 5, 8, 7, -3)\n"
     ]
    }
   ],
   "source": [
    "print(tuple_1 + tuple_2)"
   ]
  },
  {
   "cell_type": "markdown",
   "id": "39c93c20",
   "metadata": {},
   "source": [
    "Tuples are immutable"
   ]
  },
  {
   "cell_type": "code",
   "execution_count": 111,
   "id": "fb8b41f4",
   "metadata": {},
   "outputs": [
    {
     "ename": "TypeError",
     "evalue": "'tuple' object does not support item assignment",
     "output_type": "error",
     "traceback": [
      "\u001b[1;31m---------------------------------------------------------------------------\u001b[0m",
      "\u001b[1;31mTypeError\u001b[0m                                 Traceback (most recent call last)",
      "\u001b[1;32m~\\AppData\\Local\\Temp\\ipykernel_18592\\2177377342.py\u001b[0m in \u001b[0;36m<module>\u001b[1;34m\u001b[0m\n\u001b[1;32m----> 1\u001b[1;33m \u001b[0mtuple_2\u001b[0m\u001b[1;33m[\u001b[0m\u001b[1;36m0\u001b[0m\u001b[1;33m]\u001b[0m\u001b[1;33m=\u001b[0m \u001b[1;33m-\u001b[0m\u001b[1;36m8\u001b[0m\u001b[1;33m\u001b[0m\u001b[1;33m\u001b[0m\u001b[0m\n\u001b[0m",
      "\u001b[1;31mTypeError\u001b[0m: 'tuple' object does not support item assignment"
     ]
    }
   ],
   "source": [
    "tuple_2[0]= -8"
   ]
  },
  {
   "cell_type": "markdown",
   "id": "87dac92e",
   "metadata": {},
   "source": [
    "### Sets in Python"
   ]
  },
  {
   "cell_type": "code",
   "execution_count": 2,
   "id": "eda6070e",
   "metadata": {},
   "outputs": [
    {
     "data": {
      "text/plain": [
       "set"
      ]
     },
     "execution_count": 2,
     "metadata": {},
     "output_type": "execute_result"
    }
   ],
   "source": [
    "set1 = {'Hello Python!', 5,8, 1.618, 'Hello World!', 3.14, 1.618, True, False}\n",
    "type(set1)"
   ]
  },
  {
   "cell_type": "markdown",
   "id": "f63b33ea",
   "metadata": {},
   "source": [
    "Set operations"
   ]
  },
  {
   "cell_type": "code",
   "execution_count": 3,
   "id": "473e4a91",
   "metadata": {},
   "outputs": [
    {
     "data": {
      "text/plain": [
       "{1.618, 3.14, 5, 8, False, 'Hello Python!', 'Hello World!', True, 'end'}"
      ]
     },
     "execution_count": 3,
     "metadata": {},
     "output_type": "execute_result"
    }
   ],
   "source": [
    "#takes exactly one argument\n",
    "set1.add(\"end\")\n",
    "set1"
   ]
  },
  {
   "cell_type": "code",
   "execution_count": 4,
   "id": "6f7d2028",
   "metadata": {},
   "outputs": [
    {
     "data": {
      "text/plain": [
       "{1.618, 2, 3, 3.14, 5, 8, False, 'Hello Python!', 'Hello World!', True, 'end'}"
      ]
     },
     "execution_count": 4,
     "metadata": {},
     "output_type": "execute_result"
    }
   ],
   "source": [
    "#To add multiple elements into the set\n",
    "set1.update({1 ,2 ,3})\n",
    "set1"
   ]
  },
  {
   "cell_type": "markdown",
   "id": "58c8388d",
   "metadata": {},
   "source": [
    "Logic operations in Sets"
   ]
  },
  {
   "cell_type": "markdown",
   "id": "3c5e0e71",
   "metadata": {},
   "source": [
    "To find the intersect of two sets using &"
   ]
  },
  {
   "cell_type": "code",
   "execution_count": 5,
   "id": "42573a69",
   "metadata": {},
   "outputs": [
    {
     "name": "stdout",
     "output_type": "stream",
     "text": [
      "{'Hello Python!', 1.618, 'Hello World!', 3.14}\n"
     ]
    },
    {
     "data": {
      "text/plain": [
       "{1.618, 3.14, 'Hello Python!', 'Hello World!'}"
      ]
     },
     "execution_count": 5,
     "metadata": {},
     "output_type": "execute_result"
    }
   ],
   "source": [
    "set2 = set(['Hello Python!', 3.14, 1.618, 'Hello World!'])\n",
    "intersection = set1 & set2\n",
    "print(intersection)\n",
    "# or use intersection() function\n",
    "set2.intersection(set1)"
   ]
  },
  {
   "cell_type": "markdown",
   "id": "d1abc1f4",
   "metadata": {},
   "source": [
    "To find the difference between two sets using difference() function"
   ]
  },
  {
   "cell_type": "code",
   "execution_count": 6,
   "id": "c6133f10",
   "metadata": {},
   "outputs": [
    {
     "name": "stdout",
     "output_type": "stream",
     "text": [
      "{False, True, 2, 3, 5, 8, 'end'}\n",
      "{False, True, 2, 3, 5, 8, 'end'}\n"
     ]
    }
   ],
   "source": [
    "print(set1.difference(set2))\n",
    "print(set1-set2)"
   ]
  },
  {
   "cell_type": "markdown",
   "id": "88e72df4",
   "metadata": {},
   "source": [
    "union() function"
   ]
  },
  {
   "cell_type": "code",
   "execution_count": 7,
   "id": "fabb5e69",
   "metadata": {},
   "outputs": [
    {
     "data": {
      "text/plain": [
       "{1.618, 2, 3, 3.14, 5, 8, False, 'Hello Python!', 'Hello World!', True, 'end'}"
      ]
     },
     "execution_count": 7,
     "metadata": {},
     "output_type": "execute_result"
    }
   ],
   "source": [
    "set1.union(set2)"
   ]
  },
  {
   "cell_type": "markdown",
   "id": "316efa78",
   "metadata": {},
   "source": [
    "Converting list to set"
   ]
  },
  {
   "cell_type": "code",
   "execution_count": 8,
   "id": "5ccc1a09",
   "metadata": {},
   "outputs": [
    {
     "data": {
      "text/plain": [
       "{1.618, 3.14, 3.33, 88, False, 'Hello Python', True}"
      ]
     },
     "execution_count": 8,
     "metadata": {},
     "output_type": "execute_result"
    }
   ],
   "source": [
    "list = ['Hello Python', 3.14, 1.618, 3.33, 88, True, False]\n",
    "set_ = set(list)\n",
    "set_"
   ]
  },
  {
   "cell_type": "markdown",
   "id": "47149099",
   "metadata": {},
   "source": [
    "### python_if_statments"
   ]
  },
  {
   "cell_type": "code",
   "execution_count": 9,
   "id": "71e53b0a",
   "metadata": {},
   "outputs": [
    {
     "name": "stdout",
     "output_type": "stream",
     "text": [
      "enter numebr 5\n"
     ]
    }
   ],
   "source": [
    "User_Input = eval(input(\"enter numebr \"))"
   ]
  },
  {
   "cell_type": "code",
   "execution_count": 10,
   "id": "70e71d7e",
   "metadata": {},
   "outputs": [
    {
     "name": "stdout",
     "output_type": "stream",
     "text": [
      "You should go to kindergarten.\n",
      "Done!\n"
     ]
    }
   ],
   "source": [
    "if User_Input > 6:\n",
    "     print('You can go to primary school.' )\n",
    "elif User_Input == 5:\n",
    "     print('You should go to kindergarten.')\n",
    "else:\n",
    "     print('You are a baby' )\n",
    " \n",
    "print('Done!')"
   ]
  },
  {
   "cell_type": "code",
   "execution_count": 11,
   "id": "14521513",
   "metadata": {},
   "outputs": [
    {
     "name": "stdout",
     "output_type": "stream",
     "text": [
      "enter numebr 32\n",
      "numebr is *greater* than 20 \n"
     ]
    }
   ],
   "source": [
    "User_Input = eval(input(\"enter numebr \"))\n",
    "if  User_Input > 20 : \n",
    "    print(\"numebr is *greater* than 20 \" )\n",
    "else: \n",
    "    print(\"numebr is *smaller* than 20 \" )"
   ]
  },
  {
   "cell_type": "code",
   "execution_count": 12,
   "id": "8edd3ba7",
   "metadata": {},
   "outputs": [
    {
     "name": "stdout",
     "output_type": "stream",
     "text": [
      "numebr is *greater* than 20 \n"
     ]
    }
   ],
   "source": [
    "if  User_Input > 20 : \n",
    "    print(\"numebr is *greater* than 20 \" )\n",
    "else: \n",
    "    print(\"numebr is *smaller* than 20 \" )"
   ]
  },
  {
   "cell_type": "markdown",
   "id": "8df5450b",
   "metadata": {},
   "source": [
    "### for loop"
   ]
  },
  {
   "cell_type": "code",
   "execution_count": 13,
   "id": "67128966",
   "metadata": {},
   "outputs": [
    {
     "name": "stdout",
     "output_type": "stream",
     "text": [
      "ahmed\n",
      "ali\n",
      "20\n",
      "CS\n"
     ]
    }
   ],
   "source": [
    "my_list = [\"ahmed\" , \"ali\" , 20 , \"CS\"]\n",
    "for i in my_list:\n",
    "    print(i)"
   ]
  },
  {
   "cell_type": "code",
   "execution_count": 14,
   "id": "76982086",
   "metadata": {},
   "outputs": [
    {
     "name": "stdout",
     "output_type": "stream",
     "text": [
      "20\n",
      "35\n",
      "50\n",
      "65\n"
     ]
    }
   ],
   "source": [
    "for number in range(20 , 80 , 15) : \n",
    "    print(number)"
   ]
  },
  {
   "cell_type": "code",
   "execution_count": 15,
   "id": "c274d419",
   "metadata": {},
   "outputs": [
    {
     "name": "stdout",
     "output_type": "stream",
     "text": [
      "IT\n"
     ]
    }
   ],
   "source": [
    "dep = [ \"IT\" ,\"CS\" , \"IS\"]\n",
    "for y in dep:\n",
    "    if y == \"CS\" :\n",
    "        break\n",
    "    print(y)\n",
    "     "
   ]
  },
  {
   "cell_type": "code",
   "execution_count": 16,
   "id": "090db71f",
   "metadata": {},
   "outputs": [
    {
     "name": "stdout",
     "output_type": "stream",
     "text": [
      "IT\n",
      "IS\n"
     ]
    }
   ],
   "source": [
    "dep = [ \"IT\" ,\"CS\" , \"IS\"]\n",
    "for y in dep:\n",
    "    if y == \"CS\" :\n",
    "        continue\n",
    "    print(y)"
   ]
  },
  {
   "cell_type": "markdown",
   "id": "326bea1f",
   "metadata": {},
   "source": [
    "### while loop"
   ]
  },
  {
   "cell_type": "code",
   "execution_count": 18,
   "id": "669d05ec",
   "metadata": {},
   "outputs": [
    {
     "name": "stdout",
     "output_type": "stream",
     "text": [
      "IS\n",
      "It gives us only 1 repetititons to get out of loop\n"
     ]
    }
   ],
   "source": [
    "deps = [\"IS\", \"CS\", \"Bio\", \"IT\", \"AI\"]\n",
    "index = 0\n",
    "dep = deps[0]\n",
    "while dep !=\"CS\":\n",
    "    print(dep)\n",
    "    index+=1\n",
    "    dep = deps[index]\n",
    "print('It gives us only', index, 'repetititons to get out of loop')"
   ]
  },
  {
   "cell_type": "markdown",
   "id": "d6787f04",
   "metadata": {},
   "source": [
    "### python_functions                                                                                                                           "
   ]
  },
  {
   "cell_type": "code",
   "execution_count": 19,
   "id": "0de8a297",
   "metadata": {},
   "outputs": [],
   "source": [
    "List= [1 ,5 ,8 ,79 , 58]\n",
    "def sum(list):\n",
    "    sum_of_num = 0\n",
    "    for index in List:\n",
    "        sum_of_num += index\n",
    "    print(sum_of_num)    "
   ]
  },
  {
   "cell_type": "code",
   "execution_count": 20,
   "id": "57cae587",
   "metadata": {},
   "outputs": [
    {
     "name": "stdout",
     "output_type": "stream",
     "text": [
      "151\n"
     ]
    }
   ],
   "source": [
    "sum(List)"
   ]
  },
  {
   "cell_type": "code",
   "execution_count": 21,
   "id": "a61fbad0",
   "metadata": {},
   "outputs": [],
   "source": [
    "def packing_function(*i):\n",
    "    for item in i: \n",
    "        print(f\"my name is {item}\")"
   ]
  },
  {
   "cell_type": "code",
   "execution_count": 22,
   "id": "2b34ce5e",
   "metadata": {},
   "outputs": [
    {
     "name": "stdout",
     "output_type": "stream",
     "text": [
      "my name is ahmed\n",
      "my name is salah\n",
      "my name is mostafa\n",
      "my name is menna\n"
     ]
    }
   ],
   "source": [
    "packing_function(\"ahmed\" , \"salah\"  , \"mostafa\" , \"menna\")"
   ]
  },
  {
   "cell_type": "code",
   "execution_count": 23,
   "id": "0abf436a",
   "metadata": {},
   "outputs": [],
   "source": [
    "def number (n1 ,n2 ,n3):\n",
    "    return n1\n",
    "    return n2\n",
    "    return n3"
   ]
  },
  {
   "cell_type": "code",
   "execution_count": 24,
   "id": "3dda8ca3",
   "metadata": {},
   "outputs": [
    {
     "data": {
      "text/plain": [
       "2"
      ]
     },
     "execution_count": 24,
     "metadata": {},
     "output_type": "execute_result"
    }
   ],
   "source": [
    "number(2,5,8)"
   ]
  },
  {
   "cell_type": "markdown",
   "id": "47b66ee9",
   "metadata": {},
   "source": [
    "filter_function"
   ]
  },
  {
   "cell_type": "code",
   "execution_count": 1,
   "id": "2a32322b",
   "metadata": {},
   "outputs": [],
   "source": [
    "def odd(num) : \n",
    "    if num%2 != 0 :\n",
    "        return True"
   ]
  },
  {
   "cell_type": "code",
   "execution_count": 2,
   "id": "981ffdcc",
   "metadata": {},
   "outputs": [],
   "source": [
    "my_list_of_numbers = [1,2,3,5,4,88,12,65,0,45,9,75,78,64,2,15,17,91]"
   ]
  },
  {
   "cell_type": "code",
   "execution_count": 3,
   "id": "eb231c25",
   "metadata": {},
   "outputs": [
    {
     "data": {
      "text/plain": [
       "[1, 3, 5, 65, 45, 9, 75, 15, 17, 91]"
      ]
     },
     "execution_count": 3,
     "metadata": {},
     "output_type": "execute_result"
    }
   ],
   "source": [
    "list(filter(odd , my_list_of_numbers))"
   ]
  },
  {
   "cell_type": "markdown",
   "id": "fc4bc080",
   "metadata": {},
   "source": [
    "map_function"
   ]
  },
  {
   "cell_type": "code",
   "execution_count": 4,
   "id": "f46b28cd",
   "metadata": {},
   "outputs": [
    {
     "data": {
      "text/plain": [
       "[True,\n",
       " None,\n",
       " True,\n",
       " True,\n",
       " None,\n",
       " None,\n",
       " None,\n",
       " True,\n",
       " None,\n",
       " True,\n",
       " True,\n",
       " True,\n",
       " None,\n",
       " None,\n",
       " None,\n",
       " True,\n",
       " True,\n",
       " True]"
      ]
     },
     "execution_count": 4,
     "metadata": {},
     "output_type": "execute_result"
    }
   ],
   "source": [
    "#map() function returns a map object(which is an iterator) of the results after applying the given function to each item of a given iterable \n",
    "list(map(odd ,my_list_of_numbers))"
   ]
  },
  {
   "cell_type": "markdown",
   "id": "aa03226a",
   "metadata": {},
   "source": [
    "format_function"
   ]
  },
  {
   "cell_type": "code",
   "execution_count": 5,
   "id": "6735d1b8",
   "metadata": {},
   "outputs": [
    {
     "name": "stdout",
     "output_type": "stream",
     "text": [
      "Enternumber one :2.8\n",
      "Enternumber two :3\n",
      "sum of 2.8 and 3.0 is 5.8\n"
     ]
    }
   ],
   "source": [
    "#helps to format the output printed on the secreen\n",
    "\n",
    "num1 = float(input('Enternumber one :'))\n",
    "num2 = float(input('Enternumber two :'))\n",
    "sum = num1 + num2\n",
    "print(\"sum of {} and {} is {}\".format(num1 , num2 , sum))"
   ]
  },
  {
   "cell_type": "markdown",
   "id": "cf155b18",
   "metadata": {},
   "source": [
    "eval_function"
   ]
  },
  {
   "cell_type": "code",
   "execution_count": 6,
   "id": "b4431f5b",
   "metadata": {},
   "outputs": [
    {
     "name": "stdout",
     "output_type": "stream",
     "text": [
      "Sum of the expression is 15\n",
      "<class 'str'>\n",
      "<class 'int'>\n"
     ]
    }
   ],
   "source": [
    "# convert a string to an integer or a float\n",
    "\n",
    "string_to_number = '8+7'\n",
    "total = eval(string_to_number)\n",
    "print('Sum of the expression is', total)\n",
    "print(type(string_to_number))\n",
    "print(type(total))"
   ]
  },
  {
   "cell_type": "code",
   "execution_count": null,
   "id": "b560bd0d",
   "metadata": {},
   "outputs": [],
   "source": []
  }
 ],
 "metadata": {
  "kernelspec": {
   "display_name": "Python 3 (ipykernel)",
   "language": "python",
   "name": "python3"
  },
  "language_info": {
   "codemirror_mode": {
    "name": "ipython",
    "version": 3
   },
   "file_extension": ".py",
   "mimetype": "text/x-python",
   "name": "python",
   "nbconvert_exporter": "python",
   "pygments_lexer": "ipython3",
   "version": "3.9.13"
  }
 },
 "nbformat": 4,
 "nbformat_minor": 5
}
